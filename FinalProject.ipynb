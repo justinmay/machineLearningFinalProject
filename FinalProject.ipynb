{
 "cells": [
  {
   "cell_type": "markdown",
   "metadata": {},
   "source": [
    "# Preprocessing Step"
   ]
  },
  {
   "cell_type": "code",
   "execution_count": 1,
   "metadata": {},
   "outputs": [],
   "source": [
    "import pickle \n",
    "import numpy as np"
   ]
  },
  {
   "cell_type": "code",
   "execution_count": 2,
   "metadata": {},
   "outputs": [
    {
     "name": "stdout",
     "output_type": "stream",
     "text": [
      "extracting file images/data_batch_1...\n",
      "extracting file images/data_batch_2...\n",
      "extracting file images/data_batch_3...\n",
      "extracting file images/data_batch_4...\n",
      "extracting file images/data_batch_5...\n",
      "Finished Extracting Features\n",
      "(50000, 3072)\n"
     ]
    }
   ],
   "source": [
    "\"\"\"\n",
    "Extracting data into a file\n",
    "\"\"\"\n",
    "data = None\n",
    "labels = []\n",
    "for i in range(5):\n",
    "    j = i + 1\n",
    "    file = \"images/data_batch_\" + str(j)\n",
    "    with open(file, 'rb') as fo:\n",
    "        print(\"extracting file \"+file+\"...\")\n",
    "        dict = pickle.load(fo, encoding='bytes')\n",
    "        temp_data = dict[b'data']\n",
    "        try:\n",
    "            data = np.concatenate((data, temp_data), axis=0)\n",
    "        except:\n",
    "            data = temp_data\n",
    "        labels = labels + dict[b'labels']\n",
    "\n",
    "print(\"Finished Extracting Features\")\n",
    "print(np.shape(data))\n",
    "        "
   ]
  },
  {
   "cell_type": "markdown",
   "metadata": {},
   "source": [
    "# QDA"
   ]
  },
  {
   "cell_type": "code",
   "execution_count": 22,
   "metadata": {},
   "outputs": [],
   "source": [
    "\"\"\"\n",
    "Define Parameters \n",
    "\"\"\"\n",
    "mu = [_ for i in range(10)] # initializing means \n",
    "sigmas = [_ for i in range(10)] # initializing variances\n",
    "pi = [.1 for i in range(10)] # initializing prior probabiltiies "
   ]
  },
  {
   "cell_type": "code",
   "execution_count": 23,
   "metadata": {},
   "outputs": [],
   "source": [
    "\"\"\"\n",
    "Create Dictionary of indexes sorted by label \n",
    "\"\"\"\n",
    "label_dictionary = {} \n",
    "for index,label in enumerate(labels):\n",
    "    if label not in label_dictionary:\n",
    "        label_dictionary[label] = [index]\n",
    "    else:\n",
    "        label_dictionary[label].append(index)"
   ]
  },
  {
   "cell_type": "markdown",
   "metadata": {},
   "source": [
    "Label Dictionary is a dictionary with **key**: label# and **value**: list of indexes data\n",
    "### Learn Parameters"
   ]
  },
  {
   "cell_type": "code",
   "execution_count": 46,
   "metadata": {},
   "outputs": [],
   "source": [
    "\n",
    "numLabel = 5000 # number of occurences of each label \n",
    "# A.reshape(-1, 1)\n",
    "\"\"\"\n",
    "Learn mu\n",
    "\"\"\"\n",
    "for label in label_dictionary:\n",
    "    sum_array = np.array([0 for i in range(3072)])\n",
    "    for imageIndex in label_dictionary[label]:\n",
    "        sum_array = np.add(sum_array,data[imageIndex])\n",
    "    averages = np.multiply(sum_array,(1/(numLabel - 1))) # unbaised estimator formula \n",
    "    mu[label] = averages.reshape(-1,len(averages))"
   ]
  },
  {
   "cell_type": "code",
   "execution_count": 55,
   "metadata": {},
   "outputs": [
    {
     "name": "stdout",
     "output_type": "stream",
     "text": [
      "learning variance for label 6 ...\n"
     ]
    },
    {
     "ename": "KeyboardInterrupt",
     "evalue": "",
     "output_type": "error",
     "traceback": [
      "\u001b[0;31m---------------------------------------------------------------------------\u001b[0m",
      "\u001b[0;31mKeyboardInterrupt\u001b[0m                         Traceback (most recent call last)",
      "\u001b[0;32m<ipython-input-55-f9b7ce088dd2>\u001b[0m in \u001b[0;36m<module>\u001b[0;34m\u001b[0m\n\u001b[1;32m      8\u001b[0m     \u001b[0;32mfor\u001b[0m \u001b[0mimageIndex\u001b[0m \u001b[0;32min\u001b[0m \u001b[0mlabel_dictionary\u001b[0m\u001b[0;34m[\u001b[0m\u001b[0mlabel\u001b[0m\u001b[0;34m]\u001b[0m\u001b[0;34m:\u001b[0m\u001b[0;34m\u001b[0m\u001b[0;34m\u001b[0m\u001b[0m\n\u001b[1;32m      9\u001b[0m         \u001b[0mdifference\u001b[0m \u001b[0;34m=\u001b[0m \u001b[0mnp\u001b[0m\u001b[0;34m.\u001b[0m\u001b[0msubtract\u001b[0m\u001b[0;34m(\u001b[0m\u001b[0mdata\u001b[0m\u001b[0;34m[\u001b[0m\u001b[0mimageIndex\u001b[0m\u001b[0;34m]\u001b[0m\u001b[0;34m.\u001b[0m\u001b[0mreshape\u001b[0m\u001b[0;34m(\u001b[0m\u001b[0;34m-\u001b[0m\u001b[0;36m1\u001b[0m\u001b[0;34m,\u001b[0m\u001b[0;36m3072\u001b[0m\u001b[0;34m)\u001b[0m\u001b[0;34m,\u001b[0m\u001b[0mlabel_average\u001b[0m\u001b[0;34m)\u001b[0m\u001b[0;34m\u001b[0m\u001b[0;34m\u001b[0m\u001b[0m\n\u001b[0;32m---> 10\u001b[0;31m         \u001b[0mnp\u001b[0m\u001b[0;34m.\u001b[0m\u001b[0madd\u001b[0m\u001b[0;34m(\u001b[0m\u001b[0msum_array\u001b[0m\u001b[0;34m,\u001b[0m\u001b[0mdifference\u001b[0m\u001b[0;34m.\u001b[0m\u001b[0mT\u001b[0m\u001b[0;34m.\u001b[0m\u001b[0mdot\u001b[0m\u001b[0;34m(\u001b[0m\u001b[0mdifference\u001b[0m\u001b[0;34m)\u001b[0m\u001b[0;34m)\u001b[0m\u001b[0;34m\u001b[0m\u001b[0;34m\u001b[0m\u001b[0m\n\u001b[0m\u001b[1;32m     11\u001b[0m     \u001b[0mSigmas\u001b[0m \u001b[0;34m=\u001b[0m \u001b[0mnp\u001b[0m\u001b[0;34m.\u001b[0m\u001b[0mmultiply\u001b[0m\u001b[0;34m(\u001b[0m\u001b[0msum_array\u001b[0m\u001b[0;34m,\u001b[0m\u001b[0;34m(\u001b[0m\u001b[0;36m1\u001b[0m\u001b[0;34m/\u001b[0m\u001b[0;34m(\u001b[0m\u001b[0mnumLabel\u001b[0m \u001b[0;34m-\u001b[0m \u001b[0;36m1\u001b[0m\u001b[0;34m)\u001b[0m\u001b[0;34m)\u001b[0m\u001b[0;34m)\u001b[0m \u001b[0;31m# unbaised estimator formula\u001b[0m\u001b[0;34m\u001b[0m\u001b[0;34m\u001b[0m\u001b[0m\n\u001b[1;32m     12\u001b[0m     \u001b[0mprint\u001b[0m\u001b[0;34m(\u001b[0m\u001b[0mnp\u001b[0m\u001b[0;34m.\u001b[0m\u001b[0mshape\u001b[0m\u001b[0;34m(\u001b[0m\u001b[0mSigmas\u001b[0m\u001b[0;34m)\u001b[0m\u001b[0;34m)\u001b[0m\u001b[0;34m\u001b[0m\u001b[0;34m\u001b[0m\u001b[0m\n",
      "\u001b[0;31mKeyboardInterrupt\u001b[0m: "
     ]
    }
   ],
   "source": [
    "\"\"\"\n",
    "Learn sigma^2\n",
    "\"\"\"\n",
    "for label in label_dictionary:\n",
    "    print(\"learning variance for label\",label,\"...\")\n",
    "    sum_array = np.array([[0 for i in range(3072)] for i in range(3072)])\n",
    "    label_average = mu[label][0]\n",
    "    for imageIndex in label_dictionary[label]:\n",
    "        difference = np.subtract(data[imageIndex].reshape(-1,3072),label_average)\n",
    "        np.add(sum_array,difference.T.dot(difference))\n",
    "    Sigmas = np.multiply(sum_array,(1/(numLabel - 1))) # unbaised estimator formula \n",
    "    print(np.shape(Sigmas))\n",
    "    break\n",
    "    #sigmas[label] = variance"
   ]
  },
  {
   "cell_type": "code",
   "execution_count": 47,
   "metadata": {},
   "outputs": [
    {
     "name": "stdout",
     "output_type": "stream",
     "text": [
      "(3072,)\n"
     ]
    }
   ],
   "source": [
    "\"\"\"\n",
    "\n",
    "\"\"\"\n",
    "#def estimateBestLabel(image):\n",
    "print(np.shape(data[1]))"
   ]
  },
  {
   "cell_type": "markdown",
   "metadata": {},
   "source": [
    "# Support Vector Machine"
   ]
  },
  {
   "cell_type": "code",
   "execution_count": null,
   "metadata": {},
   "outputs": [],
   "source": []
  }
 ],
 "metadata": {
  "kernelspec": {
   "display_name": "Python 3",
   "language": "python",
   "name": "python3"
  },
  "language_info": {
   "codemirror_mode": {
    "name": "ipython",
    "version": 3
   },
   "file_extension": ".py",
   "mimetype": "text/x-python",
   "name": "python",
   "nbconvert_exporter": "python",
   "pygments_lexer": "ipython3",
   "version": "3.7.3"
  }
 },
 "nbformat": 4,
 "nbformat_minor": 4
}
